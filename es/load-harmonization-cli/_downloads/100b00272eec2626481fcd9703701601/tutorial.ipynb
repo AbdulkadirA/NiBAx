{
  "cells": [
    {
      "cell_type": "code",
      "execution_count": null,
      "metadata": {
        "collapsed": false
      },
      "outputs": [],
      "source": [
        "%matplotlib inline"
      ]
    },
    {
      "cell_type": "markdown",
      "metadata": {},
      "source": [
        "\n# Using the NiBAx API\n\nThis example shows a simple ouse of the NiBAx API. The example is designed\nto run inside the cloned `NiBAx` folder. It follows to some extent the\nskelleton of `mainwindow.py` but without the GUI.\n"
      ]
    },
    {
      "cell_type": "code",
      "execution_count": null,
      "metadata": {
        "collapsed": false
      },
      "outputs": [],
      "source": [
        "import pandas as pd\nimport seaborn as sns\nimport matplotlib.pyplot as plt\nimport os\n\nfrom PyQt5 import QtCore, QtWidgets\n\nimport NiBAx\nfrom NiBAx.plugins.loadsave.dataio import DataIO\nfrom NiBAx.core.plotcanvas import PlotCanvas\n\n\n\nif __name__ == \"__main__\":\n\n  # Load data\n  root = os.path.dirname(__file__)\n  dio = DataIO()\n  df = dio.ReadPickleFile(os.path.join(root, '..', 'testing', 'Data', 'synthetic_data.pkl.gz'))\n  print(df)"
      ]
    }
  ],
  "metadata": {
    "kernelspec": {
      "display_name": "Python 3",
      "language": "python",
      "name": "python3"
    },
    "language_info": {
      "codemirror_mode": {
        "name": "ipython",
        "version": 3
      },
      "file_extension": ".py",
      "mimetype": "text/x-python",
      "name": "python",
      "nbconvert_exporter": "python",
      "pygments_lexer": "ipython3",
      "version": "3.7.3"
    }
  },
  "nbformat": 4,
  "nbformat_minor": 0
}